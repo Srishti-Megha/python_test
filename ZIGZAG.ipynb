{
 "cells": [
  {
   "cell_type": "code",
   "execution_count": 1,
   "metadata": {},
   "outputs": [
    {
     "name": "stdout",
     "output_type": "stream",
     "text": [
      "Enter your string: QWERTYUIOPASDFGHJKL\n",
      "Enter number of rows: 4\n",
      "Q     U     D     L\n",
      "W   Y I   S F   K  \n",
      "E T   O A   G J    \n",
      "R     P     H      \n"
     ]
    }
   ],
   "source": [
    "\"\"\"\n",
    "Print string in zigzag pattern\n",
    "\n",
    "\"\"\"\n",
    "\n",
    "\n",
    "l = input(\"Enter your string: \") or \"PAYPALISHIRING\"\n",
    "row_len = int(input(\"Enter number of rows: \") or 4 ) \n",
    "check_sum = 0\n",
    "col_len = 0\n",
    "while check_sum < len(l):\n",
    "    if col_len % (row_len-1) == 0:\n",
    "        check_sum += row_len\n",
    "    else:\n",
    "        check_sum += 1       \n",
    "    col_len += 1     \n",
    "    \n",
    "matrix = [[' ' for i in range(col_len)] for j in range(row_len)]\n",
    "col = 0\n",
    "\n",
    "index = 0\n",
    "while col < col_len:\n",
    "    if col % (row_len-1) == 0:\n",
    "        for i in range(row_len):\n",
    "            if index < len(l):\n",
    "                matrix[i][col]= l[index]       \n",
    "                index += 1\n",
    "        # print(col)\n",
    "        col += 1\n",
    "    else:\n",
    "        for i in range(1, row_len -1):\n",
    "            if index < len(l) and col<col_len:\n",
    "                matrix[row_len-1-i][col] = l[index]\n",
    "                index += 1\n",
    "                col += 1\n",
    "            else:\n",
    "                col += 1\n",
    "\n",
    "print('\\n'.join(' '.join(i) for i in matrix))"
   ]
  },
  {
   "cell_type": "code",
   "execution_count": null,
   "metadata": {},
   "outputs": [],
   "source": [
    "\n",
    "\n",
    "\"\"\"\n",
    "#complex approach\n",
    "\n",
    "while col < col_len:\n",
    "    if col % (row_len-1) == 0:\n",
    "        for i in range(row_len):\n",
    "            if (col// (row_len-1)*(2*row_len-2))+i < len(l):\n",
    "                matrix[i][col]= l[(col// (row_len-1)*(2*row_len-2))+i]       \n",
    "        # print(col)\n",
    "        col += 1\n",
    "        check_sum += row_len\n",
    "    else:\n",
    "        num_of_full_column = (col//(row_len-1))+1\n",
    "        num_of_middle_col = (col//(row_len-1))*(row_len-2)\n",
    "        last_index_full_column = num_of_full_column*(row_len) + num_of_middle_col -1\n",
    "        # print(last_index_full_column)\n",
    "        for i in range(1, row_len -1):\n",
    "            if last_index_full_column +(col% (row_len-1)) < len(l) and col<col_len:\n",
    "                matrix[row_len-1-i][col] = l[last_index_full_column+(col% (row_len-1))]\n",
    "                col += 1\n",
    "            else:\n",
    "                col += 1\n",
    "print('\\n'.join(' '.join(i) for i in matrix))\n",
    "\"\"\""
   ]
  },
  {
   "cell_type": "code",
   "execution_count": null,
   "metadata": {},
   "outputs": [],
   "source": []
  }
 ],
 "metadata": {
  "kernelspec": {
   "display_name": "Python 3",
   "language": "python",
   "name": "python3"
  },
  "language_info": {
   "codemirror_mode": {
    "name": "ipython",
    "version": 3
   },
   "file_extension": ".py",
   "mimetype": "text/x-python",
   "name": "python",
   "nbconvert_exporter": "python",
   "pygments_lexer": "ipython3",
   "version": "3.7.3"
  }
 },
 "nbformat": 4,
 "nbformat_minor": 4
}
